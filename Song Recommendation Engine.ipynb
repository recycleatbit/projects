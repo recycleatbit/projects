{
 "cells": [
  {
   "cell_type": "markdown",
   "id": "18bbbaed",
   "metadata": {},
   "source": [
    "### Connecting to Spotify Web API"
   ]
  },
  {
   "cell_type": "code",
   "execution_count": 1,
   "id": "7100ded8",
   "metadata": {},
   "outputs": [],
   "source": [
    "import spotipy\n",
    "from spotipy.oauth2 import SpotifyClientCredentials\n",
    "from spotipy.oauth2 import SpotifyOAuth\n",
    "import spotipy.util as util"
   ]
  },
  {
   "cell_type": "code",
   "execution_count": 2,
   "id": "4b52a4fc",
   "metadata": {},
   "outputs": [],
   "source": [
    "client_id = \"5b49813bcb1c4be0bfbdf46468a9ffe3\"\n",
    "client_secret= \"5154521432584869af97ae75760f2659\""
   ]
  },
  {
   "cell_type": "code",
   "execution_count": 3,
   "id": "47c6298e",
   "metadata": {},
   "outputs": [],
   "source": [
    "scope = 'user-library-read'"
   ]
  },
  {
   "cell_type": "code",
   "execution_count": 4,
   "id": "04be84a3",
   "metadata": {},
   "outputs": [],
   "source": [
    "token = util.prompt_for_user_token(scope= scope, client_id= client_id, client_secret=client_secret, redirect_uri='http://localhost:8881/callback')"
   ]
  },
  {
   "cell_type": "code",
   "execution_count": 5,
   "id": "42fd008e",
   "metadata": {},
   "outputs": [],
   "source": [
    "sp = spotipy.Spotify(auth=token)"
   ]
  },
  {
   "cell_type": "code",
   "execution_count": 6,
   "id": "c03d1074",
   "metadata": {},
   "outputs": [],
   "source": [
    "playlist_dic = {}\n",
    "playlist_cover_art = {}\n",
    "for i in sp.current_user_playlists()['items']:\n",
    "\n",
    "    playlist_dic[i['name']] = i['uri'].split(':')[2]\n",
    "    playlist_cover_art[i['uri'].split(':')[2]] = i['images'][0]['url']"
   ]
  },
  {
   "cell_type": "code",
   "execution_count": 7,
   "id": "a2dba14b",
   "metadata": {},
   "outputs": [
    {
     "data": {
      "text/plain": [
       "{'song recs using cosine similarity': '5o9rodDwO13tRgkzVMN3JW',\n",
       " 'cant help myself': '1W7o4Bj8P5f46zi7TiNMNq',\n",
       " 'nicotine withdrawal': '17ljNgUqOheIuEaxkNn6k1',\n",
       " 'fantano HATES these': '586V3C59EVhX4Z664n7Wmw',\n",
       " 'caught in the mix': '7FciNwszzjMvmsREDw8NeI',\n",
       " 'teenage love cosplay': '5aiMQArtNLeTRWRRj31RcQ',\n",
       " 'ehh': '3EaTo6j0Z7vSlAAurojhys',\n",
       " 'alt chick self care routine': '3OApETufJmpEcfAN79eWnp'}"
      ]
     },
     "execution_count": 7,
     "metadata": {},
     "output_type": "execute_result"
    }
   ],
   "source": [
    "playlist_dic"
   ]
  },
  {
   "cell_type": "code",
   "execution_count": 8,
   "id": "49a35e82",
   "metadata": {},
   "outputs": [],
   "source": [
    "def generate_playlist_df(playlist_name, playlist_dic, spotify_data):\n",
    "    \n",
    "    playlist = pd.DataFrame()\n",
    "\n",
    "    for i, j in enumerate(sp.playlist(playlist_dic[playlist_name])['tracks']['items']):\n",
    "        playlist.loc[i, 'artist'] = j['track']['artists'][0]['name']\n",
    "        playlist.loc[i, 'track_name'] = j['track']['name']\n",
    "        playlist.loc[i, 'track_id'] = j['track']['id']\n",
    "        playlist.loc[i, 'url'] = j['track']['album']['images'][1]['url']\n",
    "        playlist.loc[i, 'date_added'] = j['added_at']\n",
    "\n",
    "    playlist['date_added'] = pd.to_datetime(playlist['date_added'])  \n",
    "    \n",
    "    playlist = playlist[playlist['track_id'].isin(spotify_data['track_id'].values)].sort_values('date_added',ascending = False)\n",
    "\n",
    "    return playlist"
   ]
  },
  {
   "cell_type": "markdown",
   "id": "38d45d0d",
   "metadata": {},
   "source": [
    "### Song's Features Data"
   ]
  },
  {
   "cell_type": "code",
   "execution_count": 9,
   "id": "ebfbead2",
   "metadata": {},
   "outputs": [],
   "source": [
    "import pandas as pd\n",
    "spotify_data = pd.read_csv('C:/Users/Boudhayan Kundu/Downloads/archive (1)/SpotifyFeatures.csv')"
   ]
  },
  {
   "cell_type": "code",
   "execution_count": 10,
   "id": "2ca00167",
   "metadata": {},
   "outputs": [
    {
     "data": {
      "text/html": [
       "<div>\n",
       "<style scoped>\n",
       "    .dataframe tbody tr th:only-of-type {\n",
       "        vertical-align: middle;\n",
       "    }\n",
       "\n",
       "    .dataframe tbody tr th {\n",
       "        vertical-align: top;\n",
       "    }\n",
       "\n",
       "    .dataframe thead th {\n",
       "        text-align: right;\n",
       "    }\n",
       "</style>\n",
       "<table border=\"1\" class=\"dataframe\">\n",
       "  <thead>\n",
       "    <tr style=\"text-align: right;\">\n",
       "      <th></th>\n",
       "      <th>genre</th>\n",
       "      <th>artist_name</th>\n",
       "      <th>track_name</th>\n",
       "      <th>track_id</th>\n",
       "      <th>popularity</th>\n",
       "      <th>acousticness</th>\n",
       "      <th>danceability</th>\n",
       "      <th>duration_ms</th>\n",
       "      <th>energy</th>\n",
       "      <th>instrumentalness</th>\n",
       "      <th>key</th>\n",
       "      <th>liveness</th>\n",
       "      <th>loudness</th>\n",
       "      <th>mode</th>\n",
       "      <th>speechiness</th>\n",
       "      <th>tempo</th>\n",
       "      <th>time_signature</th>\n",
       "      <th>valence</th>\n",
       "    </tr>\n",
       "  </thead>\n",
       "  <tbody>\n",
       "    <tr>\n",
       "      <th>0</th>\n",
       "      <td>Movie</td>\n",
       "      <td>Henri Salvador</td>\n",
       "      <td>C'est beau de faire un Show</td>\n",
       "      <td>0BRjO6ga9RKCKjfDqeFgWV</td>\n",
       "      <td>0</td>\n",
       "      <td>0.611</td>\n",
       "      <td>0.389</td>\n",
       "      <td>99373</td>\n",
       "      <td>0.910</td>\n",
       "      <td>0.000</td>\n",
       "      <td>C#</td>\n",
       "      <td>0.3460</td>\n",
       "      <td>-1.828</td>\n",
       "      <td>Major</td>\n",
       "      <td>0.0525</td>\n",
       "      <td>166.969</td>\n",
       "      <td>4/4</td>\n",
       "      <td>0.814</td>\n",
       "    </tr>\n",
       "    <tr>\n",
       "      <th>1</th>\n",
       "      <td>Movie</td>\n",
       "      <td>Martin &amp; les fées</td>\n",
       "      <td>Perdu d'avance (par Gad Elmaleh)</td>\n",
       "      <td>0BjC1NfoEOOusryehmNudP</td>\n",
       "      <td>1</td>\n",
       "      <td>0.246</td>\n",
       "      <td>0.590</td>\n",
       "      <td>137373</td>\n",
       "      <td>0.737</td>\n",
       "      <td>0.000</td>\n",
       "      <td>F#</td>\n",
       "      <td>0.1510</td>\n",
       "      <td>-5.559</td>\n",
       "      <td>Minor</td>\n",
       "      <td>0.0868</td>\n",
       "      <td>174.003</td>\n",
       "      <td>4/4</td>\n",
       "      <td>0.816</td>\n",
       "    </tr>\n",
       "    <tr>\n",
       "      <th>2</th>\n",
       "      <td>Movie</td>\n",
       "      <td>Joseph Williams</td>\n",
       "      <td>Don't Let Me Be Lonely Tonight</td>\n",
       "      <td>0CoSDzoNIKCRs124s9uTVy</td>\n",
       "      <td>3</td>\n",
       "      <td>0.952</td>\n",
       "      <td>0.663</td>\n",
       "      <td>170267</td>\n",
       "      <td>0.131</td>\n",
       "      <td>0.000</td>\n",
       "      <td>C</td>\n",
       "      <td>0.1030</td>\n",
       "      <td>-13.879</td>\n",
       "      <td>Minor</td>\n",
       "      <td>0.0362</td>\n",
       "      <td>99.488</td>\n",
       "      <td>5/4</td>\n",
       "      <td>0.368</td>\n",
       "    </tr>\n",
       "    <tr>\n",
       "      <th>3</th>\n",
       "      <td>Movie</td>\n",
       "      <td>Henri Salvador</td>\n",
       "      <td>Dis-moi Monsieur Gordon Cooper</td>\n",
       "      <td>0Gc6TVm52BwZD07Ki6tIvf</td>\n",
       "      <td>0</td>\n",
       "      <td>0.703</td>\n",
       "      <td>0.240</td>\n",
       "      <td>152427</td>\n",
       "      <td>0.326</td>\n",
       "      <td>0.000</td>\n",
       "      <td>C#</td>\n",
       "      <td>0.0985</td>\n",
       "      <td>-12.178</td>\n",
       "      <td>Major</td>\n",
       "      <td>0.0395</td>\n",
       "      <td>171.758</td>\n",
       "      <td>4/4</td>\n",
       "      <td>0.227</td>\n",
       "    </tr>\n",
       "    <tr>\n",
       "      <th>4</th>\n",
       "      <td>Movie</td>\n",
       "      <td>Fabien Nataf</td>\n",
       "      <td>Ouverture</td>\n",
       "      <td>0IuslXpMROHdEPvSl1fTQK</td>\n",
       "      <td>4</td>\n",
       "      <td>0.950</td>\n",
       "      <td>0.331</td>\n",
       "      <td>82625</td>\n",
       "      <td>0.225</td>\n",
       "      <td>0.123</td>\n",
       "      <td>F</td>\n",
       "      <td>0.2020</td>\n",
       "      <td>-21.150</td>\n",
       "      <td>Major</td>\n",
       "      <td>0.0456</td>\n",
       "      <td>140.576</td>\n",
       "      <td>4/4</td>\n",
       "      <td>0.390</td>\n",
       "    </tr>\n",
       "  </tbody>\n",
       "</table>\n",
       "</div>"
      ],
      "text/plain": [
       "   genre        artist_name                        track_name  \\\n",
       "0  Movie     Henri Salvador       C'est beau de faire un Show   \n",
       "1  Movie  Martin & les fées  Perdu d'avance (par Gad Elmaleh)   \n",
       "2  Movie    Joseph Williams    Don't Let Me Be Lonely Tonight   \n",
       "3  Movie     Henri Salvador    Dis-moi Monsieur Gordon Cooper   \n",
       "4  Movie       Fabien Nataf                         Ouverture   \n",
       "\n",
       "                 track_id  popularity  acousticness  danceability  \\\n",
       "0  0BRjO6ga9RKCKjfDqeFgWV           0         0.611         0.389   \n",
       "1  0BjC1NfoEOOusryehmNudP           1         0.246         0.590   \n",
       "2  0CoSDzoNIKCRs124s9uTVy           3         0.952         0.663   \n",
       "3  0Gc6TVm52BwZD07Ki6tIvf           0         0.703         0.240   \n",
       "4  0IuslXpMROHdEPvSl1fTQK           4         0.950         0.331   \n",
       "\n",
       "   duration_ms  energy  instrumentalness key  liveness  loudness   mode  \\\n",
       "0        99373   0.910             0.000  C#    0.3460    -1.828  Major   \n",
       "1       137373   0.737             0.000  F#    0.1510    -5.559  Minor   \n",
       "2       170267   0.131             0.000   C    0.1030   -13.879  Minor   \n",
       "3       152427   0.326             0.000  C#    0.0985   -12.178  Major   \n",
       "4        82625   0.225             0.123   F    0.2020   -21.150  Major   \n",
       "\n",
       "   speechiness    tempo time_signature  valence  \n",
       "0       0.0525  166.969            4/4    0.814  \n",
       "1       0.0868  174.003            4/4    0.816  \n",
       "2       0.0362   99.488            5/4    0.368  \n",
       "3       0.0395  171.758            4/4    0.227  \n",
       "4       0.0456  140.576            4/4    0.390  "
      ]
     },
     "execution_count": 10,
     "metadata": {},
     "output_type": "execute_result"
    }
   ],
   "source": [
    "spotify_data.head()"
   ]
  },
  {
   "cell_type": "code",
   "execution_count": 11,
   "id": "1750c57b",
   "metadata": {},
   "outputs": [],
   "source": [
    "playlist_df = generate_playlist_df('nicotine withdrawal', playlist_dic, spotify_data)"
   ]
  },
  {
   "cell_type": "code",
   "execution_count": 12,
   "id": "d7fc61ad",
   "metadata": {},
   "outputs": [
    {
     "data": {
      "text/html": [
       "<div>\n",
       "<style scoped>\n",
       "    .dataframe tbody tr th:only-of-type {\n",
       "        vertical-align: middle;\n",
       "    }\n",
       "\n",
       "    .dataframe tbody tr th {\n",
       "        vertical-align: top;\n",
       "    }\n",
       "\n",
       "    .dataframe thead th {\n",
       "        text-align: right;\n",
       "    }\n",
       "</style>\n",
       "<table border=\"1\" class=\"dataframe\">\n",
       "  <thead>\n",
       "    <tr style=\"text-align: right;\">\n",
       "      <th></th>\n",
       "      <th>artist</th>\n",
       "      <th>track_name</th>\n",
       "      <th>track_id</th>\n",
       "      <th>url</th>\n",
       "      <th>date_added</th>\n",
       "    </tr>\n",
       "  </thead>\n",
       "  <tbody>\n",
       "    <tr>\n",
       "      <th>20</th>\n",
       "      <td>The Strokes</td>\n",
       "      <td>Call It Fate, Call It Karma</td>\n",
       "      <td>3Y4rUyw7XBCK6hGHCOt6rp</td>\n",
       "      <td>https://i.scdn.co/image/ab67616d00001e02f07ef1...</td>\n",
       "      <td>2022-10-17 09:51:39+00:00</td>\n",
       "    </tr>\n",
       "    <tr>\n",
       "      <th>13</th>\n",
       "      <td>Frank Ocean</td>\n",
       "      <td>Good Guy</td>\n",
       "      <td>2JUqYobT8NvARdPmc4ES2x</td>\n",
       "      <td>https://i.scdn.co/image/ab67616d00001e02c5649a...</td>\n",
       "      <td>2022-09-02 13:27:00+00:00</td>\n",
       "    </tr>\n",
       "    <tr>\n",
       "      <th>5</th>\n",
       "      <td>Joji</td>\n",
       "      <td>worldstar money (interlude)</td>\n",
       "      <td>435yU2MvEGfDdmbH0noWZ0</td>\n",
       "      <td>https://i.scdn.co/image/ab67616d00001e023a927e...</td>\n",
       "      <td>2022-09-02 13:26:17+00:00</td>\n",
       "    </tr>\n",
       "    <tr>\n",
       "      <th>3</th>\n",
       "      <td>Dr. Dog</td>\n",
       "      <td>Where'd All the Time Go?</td>\n",
       "      <td>0UV5zxRMz6AO4ZwUOZNIKI</td>\n",
       "      <td>https://i.scdn.co/image/ab67616d00001e02047806...</td>\n",
       "      <td>2022-09-02 13:26:04+00:00</td>\n",
       "    </tr>\n",
       "    <tr>\n",
       "      <th>1</th>\n",
       "      <td>Clairo</td>\n",
       "      <td>Bubble Gum</td>\n",
       "      <td>3zksbXteOCeSusJ5Xltr3t</td>\n",
       "      <td>https://i.scdn.co/image/ab67616d00001e025d9341...</td>\n",
       "      <td>2022-09-02 13:25:55+00:00</td>\n",
       "    </tr>\n",
       "  </tbody>\n",
       "</table>\n",
       "</div>"
      ],
      "text/plain": [
       "         artist                   track_name                track_id  \\\n",
       "20  The Strokes  Call It Fate, Call It Karma  3Y4rUyw7XBCK6hGHCOt6rp   \n",
       "13  Frank Ocean                     Good Guy  2JUqYobT8NvARdPmc4ES2x   \n",
       "5          Joji  worldstar money (interlude)  435yU2MvEGfDdmbH0noWZ0   \n",
       "3       Dr. Dog     Where'd All the Time Go?  0UV5zxRMz6AO4ZwUOZNIKI   \n",
       "1        Clairo                   Bubble Gum  3zksbXteOCeSusJ5Xltr3t   \n",
       "\n",
       "                                                  url  \\\n",
       "20  https://i.scdn.co/image/ab67616d00001e02f07ef1...   \n",
       "13  https://i.scdn.co/image/ab67616d00001e02c5649a...   \n",
       "5   https://i.scdn.co/image/ab67616d00001e023a927e...   \n",
       "3   https://i.scdn.co/image/ab67616d00001e02047806...   \n",
       "1   https://i.scdn.co/image/ab67616d00001e025d9341...   \n",
       "\n",
       "                  date_added  \n",
       "20 2022-10-17 09:51:39+00:00  \n",
       "13 2022-09-02 13:27:00+00:00  \n",
       "5  2022-09-02 13:26:17+00:00  \n",
       "3  2022-09-02 13:26:04+00:00  \n",
       "1  2022-09-02 13:25:55+00:00  "
      ]
     },
     "execution_count": 12,
     "metadata": {},
     "output_type": "execute_result"
    }
   ],
   "source": [
    "playlist_df.head()"
   ]
  },
  {
   "cell_type": "markdown",
   "id": "e9c27684",
   "metadata": {},
   "source": [
    "### Creating playlist DataFrame"
   ]
  },
  {
   "cell_type": "code",
   "execution_count": 13,
   "id": "b61e7251",
   "metadata": {},
   "outputs": [
    {
     "name": "stderr",
     "output_type": "stream",
     "text": [
      "C:\\Users\\Boudhayan Kundu\\anaconda3\\Lib\\site-packages\\paramiko\\transport.py:219: CryptographyDeprecationWarning: Blowfish has been deprecated\n",
      "  \"class\": algorithms.Blowfish,\n"
     ]
    }
   ],
   "source": [
    "from skimage import io\n",
    "import matplotlib.pyplot as plt\n",
    "\n",
    "def visualize_cover_art(playlist_df):\n",
    "    temp = playlist_df['url'].values\n",
    "    plt.figure(figsize=(15,int(0.625 * len(temp))) , facecolor='#8cfc03')\n",
    "    columns = 5\n",
    "    \n",
    "    for i, url in enumerate(temp):\n",
    "        plt.subplot(len(temp) // columns + 1, columns, i + 1)\n",
    "\n",
    "        image = io.imread(url)\n",
    "        plt.imshow(image)\n",
    "        plt.xticks([])\n",
    "        plt.yticks([])\n",
    "        s='' \n",
    "        plt.xlabel(s.join(playlist_df['track_name'].values[i].split(' ')[:4]), fontsize = 10, fontweight='bold')\n",
    "        plt.tight_layout(h_pad=0.8, w_pad=0)\n",
    "        plt.subplots_adjust(wspace=None, hspace=None)\n",
    "\n",
    "    plt.show()"
   ]
  },
  {
   "cell_type": "code",
   "execution_count": 14,
   "id": "441fccf7",
   "metadata": {},
   "outputs": [],
   "source": [
    "playlist_df.to_csv('playlist.csv')"
   ]
  },
  {
   "cell_type": "markdown",
   "id": "1342652c",
   "metadata": {},
   "source": [
    "### Feature Engineering"
   ]
  },
  {
   "cell_type": "code",
   "execution_count": 15,
   "id": "493adb10",
   "metadata": {},
   "outputs": [],
   "source": [
    "spotify_features_df = spotify_data"
   ]
  },
  {
   "cell_type": "code",
   "execution_count": 16,
   "id": "05ca2b75",
   "metadata": {},
   "outputs": [
    {
     "data": {
      "text/html": [
       "<div>\n",
       "<style scoped>\n",
       "    .dataframe tbody tr th:only-of-type {\n",
       "        vertical-align: middle;\n",
       "    }\n",
       "\n",
       "    .dataframe tbody tr th {\n",
       "        vertical-align: top;\n",
       "    }\n",
       "\n",
       "    .dataframe thead th {\n",
       "        text-align: right;\n",
       "    }\n",
       "</style>\n",
       "<table border=\"1\" class=\"dataframe\">\n",
       "  <thead>\n",
       "    <tr style=\"text-align: right;\">\n",
       "      <th></th>\n",
       "      <th>A Capella</th>\n",
       "      <th>Alternative</th>\n",
       "      <th>Anime</th>\n",
       "      <th>Blues</th>\n",
       "      <th>Children's Music</th>\n",
       "      <th>Children’s Music</th>\n",
       "      <th>Classical</th>\n",
       "      <th>Comedy</th>\n",
       "      <th>Country</th>\n",
       "      <th>Dance</th>\n",
       "      <th>...</th>\n",
       "      <th>Pop</th>\n",
       "      <th>R&amp;B</th>\n",
       "      <th>Rap</th>\n",
       "      <th>Reggae</th>\n",
       "      <th>Reggaeton</th>\n",
       "      <th>Rock</th>\n",
       "      <th>Ska</th>\n",
       "      <th>Soul</th>\n",
       "      <th>Soundtrack</th>\n",
       "      <th>World</th>\n",
       "    </tr>\n",
       "  </thead>\n",
       "  <tbody>\n",
       "    <tr>\n",
       "      <th>0</th>\n",
       "      <td>0</td>\n",
       "      <td>0</td>\n",
       "      <td>0</td>\n",
       "      <td>0</td>\n",
       "      <td>0</td>\n",
       "      <td>0</td>\n",
       "      <td>0</td>\n",
       "      <td>0</td>\n",
       "      <td>0</td>\n",
       "      <td>0</td>\n",
       "      <td>...</td>\n",
       "      <td>0</td>\n",
       "      <td>0</td>\n",
       "      <td>0</td>\n",
       "      <td>0</td>\n",
       "      <td>0</td>\n",
       "      <td>0</td>\n",
       "      <td>0</td>\n",
       "      <td>0</td>\n",
       "      <td>0</td>\n",
       "      <td>0</td>\n",
       "    </tr>\n",
       "    <tr>\n",
       "      <th>1</th>\n",
       "      <td>0</td>\n",
       "      <td>0</td>\n",
       "      <td>0</td>\n",
       "      <td>0</td>\n",
       "      <td>0</td>\n",
       "      <td>0</td>\n",
       "      <td>0</td>\n",
       "      <td>0</td>\n",
       "      <td>0</td>\n",
       "      <td>0</td>\n",
       "      <td>...</td>\n",
       "      <td>0</td>\n",
       "      <td>0</td>\n",
       "      <td>0</td>\n",
       "      <td>0</td>\n",
       "      <td>0</td>\n",
       "      <td>0</td>\n",
       "      <td>0</td>\n",
       "      <td>0</td>\n",
       "      <td>0</td>\n",
       "      <td>0</td>\n",
       "    </tr>\n",
       "    <tr>\n",
       "      <th>2</th>\n",
       "      <td>0</td>\n",
       "      <td>0</td>\n",
       "      <td>0</td>\n",
       "      <td>0</td>\n",
       "      <td>0</td>\n",
       "      <td>0</td>\n",
       "      <td>0</td>\n",
       "      <td>0</td>\n",
       "      <td>0</td>\n",
       "      <td>0</td>\n",
       "      <td>...</td>\n",
       "      <td>0</td>\n",
       "      <td>0</td>\n",
       "      <td>0</td>\n",
       "      <td>0</td>\n",
       "      <td>0</td>\n",
       "      <td>0</td>\n",
       "      <td>0</td>\n",
       "      <td>0</td>\n",
       "      <td>0</td>\n",
       "      <td>0</td>\n",
       "    </tr>\n",
       "    <tr>\n",
       "      <th>3</th>\n",
       "      <td>0</td>\n",
       "      <td>0</td>\n",
       "      <td>0</td>\n",
       "      <td>0</td>\n",
       "      <td>0</td>\n",
       "      <td>0</td>\n",
       "      <td>0</td>\n",
       "      <td>0</td>\n",
       "      <td>0</td>\n",
       "      <td>0</td>\n",
       "      <td>...</td>\n",
       "      <td>0</td>\n",
       "      <td>0</td>\n",
       "      <td>0</td>\n",
       "      <td>0</td>\n",
       "      <td>0</td>\n",
       "      <td>0</td>\n",
       "      <td>0</td>\n",
       "      <td>0</td>\n",
       "      <td>0</td>\n",
       "      <td>0</td>\n",
       "    </tr>\n",
       "    <tr>\n",
       "      <th>4</th>\n",
       "      <td>0</td>\n",
       "      <td>0</td>\n",
       "      <td>0</td>\n",
       "      <td>0</td>\n",
       "      <td>0</td>\n",
       "      <td>0</td>\n",
       "      <td>0</td>\n",
       "      <td>0</td>\n",
       "      <td>0</td>\n",
       "      <td>0</td>\n",
       "      <td>...</td>\n",
       "      <td>0</td>\n",
       "      <td>0</td>\n",
       "      <td>0</td>\n",
       "      <td>0</td>\n",
       "      <td>0</td>\n",
       "      <td>0</td>\n",
       "      <td>0</td>\n",
       "      <td>0</td>\n",
       "      <td>0</td>\n",
       "      <td>0</td>\n",
       "    </tr>\n",
       "  </tbody>\n",
       "</table>\n",
       "<p>5 rows × 27 columns</p>\n",
       "</div>"
      ],
      "text/plain": [
       "   A Capella  Alternative  Anime  Blues  Children's Music  Children’s Music  \\\n",
       "0          0            0      0      0                 0                 0   \n",
       "1          0            0      0      0                 0                 0   \n",
       "2          0            0      0      0                 0                 0   \n",
       "3          0            0      0      0                 0                 0   \n",
       "4          0            0      0      0                 0                 0   \n",
       "\n",
       "   Classical  Comedy  Country  Dance  ...  Pop  R&B  Rap  Reggae  Reggaeton  \\\n",
       "0          0       0        0      0  ...    0    0    0       0          0   \n",
       "1          0       0        0      0  ...    0    0    0       0          0   \n",
       "2          0       0        0      0  ...    0    0    0       0          0   \n",
       "3          0       0        0      0  ...    0    0    0       0          0   \n",
       "4          0       0        0      0  ...    0    0    0       0          0   \n",
       "\n",
       "   Rock  Ska  Soul  Soundtrack  World  \n",
       "0     0    0     0           0      0  \n",
       "1     0    0     0           0      0  \n",
       "2     0    0     0           0      0  \n",
       "3     0    0     0           0      0  \n",
       "4     0    0     0           0      0  \n",
       "\n",
       "[5 rows x 27 columns]"
      ]
     },
     "execution_count": 16,
     "metadata": {},
     "output_type": "execute_result"
    }
   ],
   "source": [
    "genre_OHE = pd.get_dummies(spotify_features_df.genre)\n",
    "genre_OHE.head()"
   ]
  },
  {
   "cell_type": "code",
   "execution_count": 17,
   "id": "bc09a41b",
   "metadata": {},
   "outputs": [
    {
     "data": {
      "text/html": [
       "<div>\n",
       "<style scoped>\n",
       "    .dataframe tbody tr th:only-of-type {\n",
       "        vertical-align: middle;\n",
       "    }\n",
       "\n",
       "    .dataframe tbody tr th {\n",
       "        vertical-align: top;\n",
       "    }\n",
       "\n",
       "    .dataframe thead th {\n",
       "        text-align: right;\n",
       "    }\n",
       "</style>\n",
       "<table border=\"1\" class=\"dataframe\">\n",
       "  <thead>\n",
       "    <tr style=\"text-align: right;\">\n",
       "      <th></th>\n",
       "      <th>A</th>\n",
       "      <th>A#</th>\n",
       "      <th>B</th>\n",
       "      <th>C</th>\n",
       "      <th>C#</th>\n",
       "      <th>D</th>\n",
       "      <th>D#</th>\n",
       "      <th>E</th>\n",
       "      <th>F</th>\n",
       "      <th>F#</th>\n",
       "      <th>G</th>\n",
       "      <th>G#</th>\n",
       "    </tr>\n",
       "  </thead>\n",
       "  <tbody>\n",
       "    <tr>\n",
       "      <th>0</th>\n",
       "      <td>0</td>\n",
       "      <td>0</td>\n",
       "      <td>0</td>\n",
       "      <td>0</td>\n",
       "      <td>1</td>\n",
       "      <td>0</td>\n",
       "      <td>0</td>\n",
       "      <td>0</td>\n",
       "      <td>0</td>\n",
       "      <td>0</td>\n",
       "      <td>0</td>\n",
       "      <td>0</td>\n",
       "    </tr>\n",
       "    <tr>\n",
       "      <th>1</th>\n",
       "      <td>0</td>\n",
       "      <td>0</td>\n",
       "      <td>0</td>\n",
       "      <td>0</td>\n",
       "      <td>0</td>\n",
       "      <td>0</td>\n",
       "      <td>0</td>\n",
       "      <td>0</td>\n",
       "      <td>0</td>\n",
       "      <td>1</td>\n",
       "      <td>0</td>\n",
       "      <td>0</td>\n",
       "    </tr>\n",
       "    <tr>\n",
       "      <th>2</th>\n",
       "      <td>0</td>\n",
       "      <td>0</td>\n",
       "      <td>0</td>\n",
       "      <td>1</td>\n",
       "      <td>0</td>\n",
       "      <td>0</td>\n",
       "      <td>0</td>\n",
       "      <td>0</td>\n",
       "      <td>0</td>\n",
       "      <td>0</td>\n",
       "      <td>0</td>\n",
       "      <td>0</td>\n",
       "    </tr>\n",
       "    <tr>\n",
       "      <th>3</th>\n",
       "      <td>0</td>\n",
       "      <td>0</td>\n",
       "      <td>0</td>\n",
       "      <td>0</td>\n",
       "      <td>1</td>\n",
       "      <td>0</td>\n",
       "      <td>0</td>\n",
       "      <td>0</td>\n",
       "      <td>0</td>\n",
       "      <td>0</td>\n",
       "      <td>0</td>\n",
       "      <td>0</td>\n",
       "    </tr>\n",
       "    <tr>\n",
       "      <th>4</th>\n",
       "      <td>0</td>\n",
       "      <td>0</td>\n",
       "      <td>0</td>\n",
       "      <td>0</td>\n",
       "      <td>0</td>\n",
       "      <td>0</td>\n",
       "      <td>0</td>\n",
       "      <td>0</td>\n",
       "      <td>1</td>\n",
       "      <td>0</td>\n",
       "      <td>0</td>\n",
       "      <td>0</td>\n",
       "    </tr>\n",
       "  </tbody>\n",
       "</table>\n",
       "</div>"
      ],
      "text/plain": [
       "   A  A#  B  C  C#  D  D#  E  F  F#  G  G#\n",
       "0  0   0  0  0   1  0   0  0  0   0  0   0\n",
       "1  0   0  0  0   0  0   0  0  0   1  0   0\n",
       "2  0   0  0  1   0  0   0  0  0   0  0   0\n",
       "3  0   0  0  0   1  0   0  0  0   0  0   0\n",
       "4  0   0  0  0   0  0   0  0  1   0  0   0"
      ]
     },
     "execution_count": 17,
     "metadata": {},
     "output_type": "execute_result"
    }
   ],
   "source": [
    "key_OHE = pd.get_dummies(spotify_features_df.key)\n",
    "key_OHE.head()"
   ]
  },
  {
   "cell_type": "code",
   "execution_count": 18,
   "id": "003aa7f0",
   "metadata": {},
   "outputs": [],
   "source": [
    "from sklearn.preprocessing import MinMaxScaler"
   ]
  },
  {
   "cell_type": "code",
   "execution_count": 19,
   "id": "731342b6",
   "metadata": {},
   "outputs": [],
   "source": [
    "scaled_features = MinMaxScaler().fit_transform([spotify_features_df['acousticness'].values,spotify_features_df['danceability'].values,spotify_features_df['duration_ms'].values,spotify_features_df['energy'].values,spotify_features_df['instrumentalness'].values,spotify_features_df['liveness'].values,spotify_features_df['loudness'].values,spotify_features_df['speechiness'].values,spotify_features_df['tempo'].values,spotify_features_df['valence'].values])"
   ]
  },
  {
   "cell_type": "code",
   "execution_count": 20,
   "id": "9ce3e96a",
   "metadata": {},
   "outputs": [],
   "source": [
    "spotify_features_df[['acousticness','danceability','duration_ms','energy','instrumentalness','liveness','loudness','speechiness','tempo','valence']] = scaled_features.T"
   ]
  },
  {
   "cell_type": "code",
   "execution_count": 21,
   "id": "761fa544",
   "metadata": {},
   "outputs": [],
   "source": [
    "spotify_features_df = spotify_features_df.drop('genre',axis = 1)\n",
    "spotify_features_df = spotify_features_df.drop('artist_name', axis = 1)\n",
    "spotify_features_df = spotify_features_df.drop('track_name', axis = 1)\n",
    "spotify_features_df = spotify_features_df.drop('popularity',axis = 1)\n",
    "spotify_features_df = spotify_features_df.drop('key', axis = 1)\n",
    "spotify_features_df = spotify_features_df.drop('mode', axis = 1)\n",
    "spotify_features_df = spotify_features_df.drop('time_signature', axis = 1)"
   ]
  },
  {
   "cell_type": "code",
   "execution_count": 22,
   "id": "f1421e3a",
   "metadata": {},
   "outputs": [],
   "source": [
    "spotify_features_df = spotify_features_df.join(genre_OHE)\n",
    "spotify_features_df = spotify_features_df.join(key_OHE)"
   ]
  },
  {
   "cell_type": "code",
   "execution_count": 23,
   "id": "0922c11d",
   "metadata": {},
   "outputs": [
    {
     "data": {
      "text/plain": [
       "(232725, 50)"
      ]
     },
     "execution_count": 23,
     "metadata": {},
     "output_type": "execute_result"
    }
   ],
   "source": [
    "spotify_features_df.shape"
   ]
  },
  {
   "cell_type": "code",
   "execution_count": 24,
   "id": "53c80ca9",
   "metadata": {},
   "outputs": [
    {
     "data": {
      "text/html": [
       "<div>\n",
       "<style scoped>\n",
       "    .dataframe tbody tr th:only-of-type {\n",
       "        vertical-align: middle;\n",
       "    }\n",
       "\n",
       "    .dataframe tbody tr th {\n",
       "        vertical-align: top;\n",
       "    }\n",
       "\n",
       "    .dataframe thead th {\n",
       "        text-align: right;\n",
       "    }\n",
       "</style>\n",
       "<table border=\"1\" class=\"dataframe\">\n",
       "  <thead>\n",
       "    <tr style=\"text-align: right;\">\n",
       "      <th></th>\n",
       "      <th>track_id</th>\n",
       "      <th>acousticness</th>\n",
       "      <th>danceability</th>\n",
       "      <th>duration_ms</th>\n",
       "      <th>energy</th>\n",
       "      <th>instrumentalness</th>\n",
       "      <th>liveness</th>\n",
       "      <th>loudness</th>\n",
       "      <th>speechiness</th>\n",
       "      <th>tempo</th>\n",
       "      <th>...</th>\n",
       "      <th>B</th>\n",
       "      <th>C</th>\n",
       "      <th>C#</th>\n",
       "      <th>D</th>\n",
       "      <th>D#</th>\n",
       "      <th>E</th>\n",
       "      <th>F</th>\n",
       "      <th>F#</th>\n",
       "      <th>G</th>\n",
       "      <th>G#</th>\n",
       "    </tr>\n",
       "  </thead>\n",
       "  <tbody>\n",
       "    <tr>\n",
       "      <th>0</th>\n",
       "      <td>0BRjO6ga9RKCKjfDqeFgWV</td>\n",
       "      <td>0.000025</td>\n",
       "      <td>0.000022</td>\n",
       "      <td>1.0</td>\n",
       "      <td>0.000028</td>\n",
       "      <td>0.000018</td>\n",
       "      <td>0.000022</td>\n",
       "      <td>0.0</td>\n",
       "      <td>0.000019</td>\n",
       "      <td>0.001699</td>\n",
       "      <td>...</td>\n",
       "      <td>0</td>\n",
       "      <td>0</td>\n",
       "      <td>1</td>\n",
       "      <td>0</td>\n",
       "      <td>0</td>\n",
       "      <td>0</td>\n",
       "      <td>0</td>\n",
       "      <td>0</td>\n",
       "      <td>0</td>\n",
       "      <td>0</td>\n",
       "    </tr>\n",
       "    <tr>\n",
       "      <th>1</th>\n",
       "      <td>0BjC1NfoEOOusryehmNudP</td>\n",
       "      <td>0.000042</td>\n",
       "      <td>0.000045</td>\n",
       "      <td>1.0</td>\n",
       "      <td>0.000046</td>\n",
       "      <td>0.000040</td>\n",
       "      <td>0.000042</td>\n",
       "      <td>0.0</td>\n",
       "      <td>0.000041</td>\n",
       "      <td>0.001307</td>\n",
       "      <td>...</td>\n",
       "      <td>0</td>\n",
       "      <td>0</td>\n",
       "      <td>0</td>\n",
       "      <td>0</td>\n",
       "      <td>0</td>\n",
       "      <td>0</td>\n",
       "      <td>0</td>\n",
       "      <td>1</td>\n",
       "      <td>0</td>\n",
       "      <td>0</td>\n",
       "    </tr>\n",
       "    <tr>\n",
       "      <th>2</th>\n",
       "      <td>0CoSDzoNIKCRs124s9uTVy</td>\n",
       "      <td>0.000087</td>\n",
       "      <td>0.000085</td>\n",
       "      <td>1.0</td>\n",
       "      <td>0.000082</td>\n",
       "      <td>0.000082</td>\n",
       "      <td>0.000082</td>\n",
       "      <td>0.0</td>\n",
       "      <td>0.000082</td>\n",
       "      <td>0.000666</td>\n",
       "      <td>...</td>\n",
       "      <td>0</td>\n",
       "      <td>1</td>\n",
       "      <td>0</td>\n",
       "      <td>0</td>\n",
       "      <td>0</td>\n",
       "      <td>0</td>\n",
       "      <td>0</td>\n",
       "      <td>0</td>\n",
       "      <td>0</td>\n",
       "      <td>0</td>\n",
       "    </tr>\n",
       "    <tr>\n",
       "      <th>3</th>\n",
       "      <td>0Gc6TVm52BwZD07Ki6tIvf</td>\n",
       "      <td>0.000084</td>\n",
       "      <td>0.000081</td>\n",
       "      <td>1.0</td>\n",
       "      <td>0.000082</td>\n",
       "      <td>0.000080</td>\n",
       "      <td>0.000081</td>\n",
       "      <td>0.0</td>\n",
       "      <td>0.000080</td>\n",
       "      <td>0.001207</td>\n",
       "      <td>...</td>\n",
       "      <td>0</td>\n",
       "      <td>0</td>\n",
       "      <td>1</td>\n",
       "      <td>0</td>\n",
       "      <td>0</td>\n",
       "      <td>0</td>\n",
       "      <td>0</td>\n",
       "      <td>0</td>\n",
       "      <td>0</td>\n",
       "      <td>0</td>\n",
       "    </tr>\n",
       "    <tr>\n",
       "      <th>4</th>\n",
       "      <td>0IuslXpMROHdEPvSl1fTQK</td>\n",
       "      <td>0.000267</td>\n",
       "      <td>0.000260</td>\n",
       "      <td>1.0</td>\n",
       "      <td>0.000259</td>\n",
       "      <td>0.000257</td>\n",
       "      <td>0.000258</td>\n",
       "      <td>0.0</td>\n",
       "      <td>0.000256</td>\n",
       "      <td>0.001957</td>\n",
       "      <td>...</td>\n",
       "      <td>0</td>\n",
       "      <td>0</td>\n",
       "      <td>0</td>\n",
       "      <td>0</td>\n",
       "      <td>0</td>\n",
       "      <td>0</td>\n",
       "      <td>1</td>\n",
       "      <td>0</td>\n",
       "      <td>0</td>\n",
       "      <td>0</td>\n",
       "    </tr>\n",
       "  </tbody>\n",
       "</table>\n",
       "<p>5 rows × 50 columns</p>\n",
       "</div>"
      ],
      "text/plain": [
       "                 track_id  acousticness  danceability  duration_ms    energy  \\\n",
       "0  0BRjO6ga9RKCKjfDqeFgWV      0.000025      0.000022          1.0  0.000028   \n",
       "1  0BjC1NfoEOOusryehmNudP      0.000042      0.000045          1.0  0.000046   \n",
       "2  0CoSDzoNIKCRs124s9uTVy      0.000087      0.000085          1.0  0.000082   \n",
       "3  0Gc6TVm52BwZD07Ki6tIvf      0.000084      0.000081          1.0  0.000082   \n",
       "4  0IuslXpMROHdEPvSl1fTQK      0.000267      0.000260          1.0  0.000259   \n",
       "\n",
       "   instrumentalness  liveness  loudness  speechiness     tempo  ...  B  C  C#  \\\n",
       "0          0.000018  0.000022       0.0     0.000019  0.001699  ...  0  0   1   \n",
       "1          0.000040  0.000042       0.0     0.000041  0.001307  ...  0  0   0   \n",
       "2          0.000082  0.000082       0.0     0.000082  0.000666  ...  0  1   0   \n",
       "3          0.000080  0.000081       0.0     0.000080  0.001207  ...  0  0   1   \n",
       "4          0.000257  0.000258       0.0     0.000256  0.001957  ...  0  0   0   \n",
       "\n",
       "   D  D#  E  F  F#  G  G#  \n",
       "0  0   0  0  0   0  0   0  \n",
       "1  0   0  0  0   1  0   0  \n",
       "2  0   0  0  0   0  0   0  \n",
       "3  0   0  0  0   0  0   0  \n",
       "4  0   0  0  1   0  0   0  \n",
       "\n",
       "[5 rows x 50 columns]"
      ]
     },
     "execution_count": 24,
     "metadata": {},
     "output_type": "execute_result"
    }
   ],
   "source": [
    "spotify_features_df.head()"
   ]
  },
  {
   "cell_type": "markdown",
   "id": "0fb44489",
   "metadata": {},
   "source": [
    "### Generating Playlist Vector"
   ]
  },
  {
   "cell_type": "code",
   "execution_count": 25,
   "id": "4c25a5b8",
   "metadata": {},
   "outputs": [],
   "source": [
    "from datetime import datetime"
   ]
  },
  {
   "cell_type": "code",
   "execution_count": 26,
   "id": "affce429",
   "metadata": {},
   "outputs": [],
   "source": [
    "def generate_playlist_vector(spotify_features, playlist_df, weight_factor):\n",
    "    \n",
    "    spotify_features_playlist = spotify_features[spotify_features['track_id'].isin(playlist_df['track_id'].values)]\n",
    "    spotify_features_playlist = spotify_features_playlist.merge(playlist_df[['track_id','date_added']], on = 'track_id', how = 'inner')\n",
    "    \n",
    "    spotify_features_nonplaylist = spotify_features[~spotify_features['track_id'].isin(playlist_df['track_id'].values)]\n",
    "    \n",
    "    playlist_feature_set = spotify_features_playlist.sort_values('date_added',ascending=False)\n",
    "    \n",
    "    \n",
    "    most_recent_date = playlist_feature_set.iloc[0,-1]\n",
    "    \n",
    "    for ix, row in playlist_feature_set.iterrows():\n",
    "        playlist_feature_set.loc[ix,'days_from_recent'] = int((most_recent_date.to_pydatetime() - row.iloc[-1].to_pydatetime()).days)\n",
    "        \n",
    "    \n",
    "    playlist_feature_set['weight'] = playlist_feature_set['days_from_recent'].apply(lambda x: weight_factor ** (-x))\n",
    "    \n",
    "    playlist_feature_set_weighted = playlist_feature_set.copy()\n",
    "    \n",
    "    playlist_feature_set_weighted.update(playlist_feature_set_weighted.iloc[:,:-3].mul(playlist_feature_set_weighted.weight.astype(int),0))   \n",
    "    \n",
    "    playlist_feature_set_weighted_final = playlist_feature_set_weighted.iloc[:, :-3]\n",
    "    \n",
    "\n",
    "    \n",
    "    return playlist_feature_set_weighted_final.sum(axis = 0), spotify_features_nonplaylist\n"
   ]
  },
  {
   "cell_type": "code",
   "execution_count": 27,
   "id": "3cff117f",
   "metadata": {},
   "outputs": [],
   "source": [
    "playlist_vector, nonplaylist_df = generate_playlist_vector(spotify_features_df, playlist_df, 1.2)"
   ]
  },
  {
   "cell_type": "code",
   "execution_count": 28,
   "id": "c239c512",
   "metadata": {},
   "outputs": [
    {
     "name": "stdout",
     "output_type": "stream",
     "text": [
      "(50,)\n",
      "(232706, 50)\n"
     ]
    }
   ],
   "source": [
    "print(playlist_vector.shape)\n",
    "print(nonplaylist_df.shape)"
   ]
  },
  {
   "cell_type": "code",
   "execution_count": 29,
   "id": "37402b76",
   "metadata": {},
   "outputs": [
    {
     "data": {
      "text/plain": [
       "(232706, 50)"
      ]
     },
     "execution_count": 29,
     "metadata": {},
     "output_type": "execute_result"
    }
   ],
   "source": [
    "nonplaylist_df.shape"
   ]
  },
  {
   "cell_type": "markdown",
   "id": "a016f7c8",
   "metadata": {},
   "source": [
    "### Generate Recommendations"
   ]
  },
  {
   "cell_type": "code",
   "execution_count": 30,
   "id": "551d7e62",
   "metadata": {},
   "outputs": [],
   "source": [
    "from sklearn.metrics.pairwise import cosine_similarity"
   ]
  },
  {
   "cell_type": "code",
   "execution_count": 31,
   "id": "7897eb8f",
   "metadata": {},
   "outputs": [],
   "source": [
    "def generate_recommendation(spotify_data, playlist_vector, nonplaylist_df):\n",
    "\n",
    "    non_playlist = spotify_data[spotify_data['track_id'].isin(nonplaylist_df['track_id'].values)]\n",
    "    non_playlist['sim'] = cosine_similarity(nonplaylist_df.drop(['track_id'], axis = 1).values, playlist_vector.drop(labels = 'track_id').values.reshape(1, -1))[:,0]\n",
    "    non_playlist_top15 = non_playlist.sort_values('sim',ascending = False).head(20)\n",
    "    non_playlist_top15['url'] = non_playlist_top15['track_id'].apply(lambda x: sp.track(x)['album']['images'][1]['url'])\n",
    "    \n",
    "    return  non_playlist_top15"
   ]
  },
  {
   "cell_type": "code",
   "execution_count": 32,
   "id": "3dedf751",
   "metadata": {},
   "outputs": [
    {
     "name": "stderr",
     "output_type": "stream",
     "text": [
      "C:\\Users\\Boudhayan Kundu\\AppData\\Local\\Temp\\ipykernel_31192\\3194971378.py:4: SettingWithCopyWarning: \n",
      "A value is trying to be set on a copy of a slice from a DataFrame.\n",
      "Try using .loc[row_indexer,col_indexer] = value instead\n",
      "\n",
      "See the caveats in the documentation: https://pandas.pydata.org/pandas-docs/stable/user_guide/indexing.html#returning-a-view-versus-a-copy\n",
      "  non_playlist['sim'] = cosine_similarity(nonplaylist_df.drop(['track_id'], axis = 1).values, playlist_vector.drop(labels = 'track_id').values.reshape(1, -1))[:,0]\n"
     ]
    }
   ],
   "source": [
    "top20 = generate_recommendation(spotify_data, playlist_vector, nonplaylist_df)  "
   ]
  },
  {
   "cell_type": "markdown",
   "id": "6d60a8d7",
   "metadata": {},
   "source": [
    "### Top 20 recommended songs"
   ]
  },
  {
   "cell_type": "code",
   "execution_count": 33,
   "id": "3666f53a",
   "metadata": {},
   "outputs": [
    {
     "data": {
      "text/plain": [
       "224887    spotify:track:6xNwKNYZcvgV3XTIwsgNio\n",
       "94036     spotify:track:4fpEuKIzTLmMJnYwFU0oqr\n",
       "224753    spotify:track:4fpEuKIzTLmMJnYwFU0oqr\n",
       "154629    spotify:track:3OYejGbGSMijzWFTdCd8sy\n",
       "96291     spotify:track:3OYejGbGSMijzWFTdCd8sy\n",
       "102635    spotify:track:1YZDkJOFT8xlAXDi8lneb3\n",
       "11877     spotify:track:1YZDkJOFT8xlAXDi8lneb3\n",
       "155102    spotify:track:1YZDkJOFT8xlAXDi8lneb3\n",
       "153332    spotify:track:1jcPcDu2YawPfLhwjYnqK2\n",
       "144883    spotify:track:5fwayRiGFLBLacew9DCi09\n",
       "5662      spotify:track:5v0C3nNNDMhZ3nWzzP0W4T\n",
       "97840     spotify:track:5v0C3nNNDMhZ3nWzzP0W4T\n",
       "141990    spotify:track:4RdBZE3BH44wZXoj2vmjez\n",
       "98342     spotify:track:4RdBZE3BH44wZXoj2vmjez\n",
       "9317      spotify:track:4RdBZE3BH44wZXoj2vmjez\n",
       "153046    spotify:track:2VmB1rF9FtfKUmFHDVnq8Q\n",
       "223568    spotify:track:0SW6NfA6MTCC6OWNt6SAkV\n",
       "167052    spotify:track:16XeptMdlJTWWeIrwEAOvv\n",
       "5638      spotify:track:1we2UifyzGe2tgvTVFTwD4\n",
       "97605     spotify:track:1we2UifyzGe2tgvTVFTwD4\n",
       "Name: track_id, dtype: object"
      ]
     },
     "execution_count": 33,
     "metadata": {},
     "output_type": "execute_result"
    }
   ],
   "source": [
    "string_to_add = \"spotify:track:\"\n",
    "top20['track_id'] = string_to_add + top20['track_id']\n",
    "top20.track_id"
   ]
  },
  {
   "cell_type": "code",
   "execution_count": 34,
   "id": "f133097e",
   "metadata": {},
   "outputs": [
    {
     "data": {
      "text/plain": [
       "'spotify:track:6xNwKNYZcvgV3XTIwsgNio'"
      ]
     },
     "execution_count": 34,
     "metadata": {},
     "output_type": "execute_result"
    }
   ],
   "source": [
    "track_uris= [top20.track_id.tolist()]\n",
    "track_uris[0][0]"
   ]
  },
  {
   "cell_type": "code",
   "execution_count": 35,
   "id": "cceae2bd",
   "metadata": {},
   "outputs": [],
   "source": [
    "from spotipy.oauth2 import SpotifyOAuth\n",
    "from spotipy.oauth2 import SpotifyClientCredentials\n",
    "import spotipy.util as util"
   ]
  },
  {
   "cell_type": "code",
   "execution_count": 36,
   "id": "6a7efa13",
   "metadata": {},
   "outputs": [],
   "source": [
    "client_id = '5b49813bcb1c4be0bfbdf46468a9ffe3'\n",
    "client_secret = '5154521432584869af97ae75760f2659'\n",
    "redirect_uri = 'http://localhost:8881/callback' "
   ]
  },
  {
   "cell_type": "code",
   "execution_count": 37,
   "id": "9ced32a3",
   "metadata": {},
   "outputs": [],
   "source": [
    "sp = spotipy.Spotify(auth_manager=SpotifyOAuth(client_id=client_id, client_secret=client_secret, redirect_uri=redirect_uri, scope='playlist-modify-public'))"
   ]
  },
  {
   "cell_type": "code",
   "execution_count": 38,
   "id": "eee92ba1",
   "metadata": {},
   "outputs": [],
   "source": [
    "playlist_name = 'song recs using cosine similarity new'\n",
    "playlist_description = 'A playlist created using song reccomendations based on my other playlists'\n",
    "playlist_public = True  # Set to False if you want a private playlist\n",
    "\n",
    "user_username = 'vumih1cale3cq4crzi3b2ks7g'  # Replace with the user's actual Spotify username"
   ]
  },
  {
   "cell_type": "code",
   "execution_count": 39,
   "id": "7fbc0ddd",
   "metadata": {},
   "outputs": [
    {
     "data": {
      "text/plain": [
       "{'snapshot_id': 'MyxkNDlhNmE4YWNmODg1NTdmNjY4OTYxYzM2NzVhZjI0MWI0MzBkMDM1'}"
      ]
     },
     "execution_count": 39,
     "metadata": {},
     "output_type": "execute_result"
    }
   ],
   "source": [
    "playlist = sp.user_playlist_create(user=user_username, name=playlist_name, public=playlist_public, description=playlist_description)\n",
    "playlist_id = playlist['id']\n",
    "\n",
    "sp.playlist_add_items(playlist_id, track_uris[0])"
   ]
  },
  {
   "cell_type": "code",
   "execution_count": null,
   "id": "c418d1d5",
   "metadata": {},
   "outputs": [],
   "source": []
  }
 ],
 "metadata": {
  "kernelspec": {
   "display_name": "Python 3 (ipykernel)",
   "language": "python",
   "name": "python3"
  },
  "language_info": {
   "codemirror_mode": {
    "name": "ipython",
    "version": 3
   },
   "file_extension": ".py",
   "mimetype": "text/x-python",
   "name": "python",
   "nbconvert_exporter": "python",
   "pygments_lexer": "ipython3",
   "version": "3.11.4"
  }
 },
 "nbformat": 4,
 "nbformat_minor": 5
}
